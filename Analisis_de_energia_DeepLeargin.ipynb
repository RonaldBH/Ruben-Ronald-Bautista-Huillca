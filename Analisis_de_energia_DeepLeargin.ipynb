{
  "nbformat": 4,
  "nbformat_minor": 0,
  "metadata": {
    "colab": {
      "provenance": [],
      "include_colab_link": true
    },
    "kernelspec": {
      "name": "python3",
      "display_name": "Python 3"
    },
    "language_info": {
      "name": "python"
    },
    "accelerator": "GPU",
    "gpuClass": "standard"
  },
  "cells": [
    {
      "cell_type": "markdown",
      "metadata": {
        "id": "view-in-github",
        "colab_type": "text"
      },
      "source": [
        "<a href=\"https://colab.research.google.com/github/RonaldBH/Ruben-Ronald-Bautista-Huillca/blob/main/Analisis_de_energia_DeepLeargin.ipynb\" target=\"_parent\"><img src=\"https://colab.research.google.com/assets/colab-badge.svg\" alt=\"Open In Colab\"/></a>"
      ]
    },
    {
      "cell_type": "markdown",
      "source": [
        "#Bautista Huillca Ruben Ronald\n",
        "##184641\n",
        "##Analisis de comsumo de potencia de comsumo energetico\n",
        "08/02/2022"
      ],
      "metadata": {
        "id": "IoXCBjuUw92h"
      }
    },
    {
      "cell_type": "code",
      "execution_count": null,
      "metadata": {
        "id": "0CfZVS_tq0hh"
      },
      "outputs": [],
      "source": [
        "# Librerías\n",
        "import numpy as np\n",
        "np.random.seed(4)\n",
        "import matplotlib.pyplot as plt\n",
        "import pandas as pd\n",
        "from matplotlib.pyplot import figure\n",
        "from sklearn.preprocessing import MinMaxScaler\n",
        "from keras.models import Sequential\n",
        "from keras.layers import Dense, LSTM"
      ]
    },
    {
      "cell_type": "code",
      "source": [
        "def graficar_predicciones(real, prediccion):\n",
        "    figure(figsize=(10, 6), dpi=80)\n",
        "    plt.plot(real[0:len(prediccion)],color='red', label='Valor real de la acción')\n",
        "    plt.plot(prediccion, color='blue', label='Predicción de la acción')\n",
        "    plt.ylim(1.1 * np.min(prediccion)/2, 1.1 * np.max(prediccion))\n",
        "    plt.xlabel('Tiempo')\n",
        "    plt.ylabel('Valor de la acción')\n",
        "    plt.legend()\n",
        "    plt.show()"
      ],
      "metadata": {
        "id": "q0obZDbGw-Tg"
      },
      "execution_count": null,
      "outputs": []
    },
    {
      "cell_type": "code",
      "source": [
        "from google.colab import drive\n",
        "drive.mount('/content/drive')"
      ],
      "metadata": {
        "colab": {
          "base_uri": "https://localhost:8080/"
        },
        "id": "J0VIiMbczoVQ",
        "outputId": "93db0156-bbce-498b-a70f-073e968786ed"
      },
      "execution_count": null,
      "outputs": [
        {
          "output_type": "stream",
          "name": "stdout",
          "text": [
            "Drive already mounted at /content/drive; to attempt to forcibly remount, call drive.mount(\"/content/drive\", force_remount=True).\n"
          ]
        }
      ]
    },
    {
      "cell_type": "markdown",
      "source": [
        "## **Cargar datos**"
      ],
      "metadata": {
        "id": "p6INfi_s9XIZ"
      }
    },
    {
      "cell_type": "code",
      "source": [
        "data = pd.read_csv(r\"/content/drive/MyDrive/20222colab/deeplearning/Carpeta sin título/power_consumption_of_house.txt\", sep=';', low_memory=False)\n",
        "data.head()"
      ],
      "metadata": {
        "colab": {
          "base_uri": "https://localhost:8080/",
          "height": 270
        },
        "id": "jAq1O5HpybA3",
        "outputId": "484c6471-9851-4e78-a698-aec4c95ec6a4"
      },
      "execution_count": null,
      "outputs": [
        {
          "output_type": "execute_result",
          "data": {
            "text/plain": [
              "         Date      Time Global_active_power Global_reactive_power  Voltage  \\\n",
              "0  16/12/2006  17:24:00               4.216                 0.418  234.840   \n",
              "1  16/12/2006  17:25:00               5.360                 0.436  233.630   \n",
              "2  16/12/2006  17:26:00               5.374                 0.498  233.290   \n",
              "3  16/12/2006  17:27:00               5.388                 0.502  233.740   \n",
              "4  16/12/2006  17:28:00               3.666                 0.528  235.680   \n",
              "\n",
              "  Global_intensity Sub_metering_1 Sub_metering_2  Sub_metering_3  \n",
              "0           18.400          0.000          1.000            17.0  \n",
              "1           23.000          0.000          1.000            16.0  \n",
              "2           23.000          0.000          2.000            17.0  \n",
              "3           23.000          0.000          1.000            17.0  \n",
              "4           15.800          0.000          1.000            17.0  "
            ],
            "text/html": [
              "\n",
              "  <div id=\"df-ec57bfdd-3932-4046-8b97-cb1e3b013fd6\">\n",
              "    <div class=\"colab-df-container\">\n",
              "      <div>\n",
              "<style scoped>\n",
              "    .dataframe tbody tr th:only-of-type {\n",
              "        vertical-align: middle;\n",
              "    }\n",
              "\n",
              "    .dataframe tbody tr th {\n",
              "        vertical-align: top;\n",
              "    }\n",
              "\n",
              "    .dataframe thead th {\n",
              "        text-align: right;\n",
              "    }\n",
              "</style>\n",
              "<table border=\"1\" class=\"dataframe\">\n",
              "  <thead>\n",
              "    <tr style=\"text-align: right;\">\n",
              "      <th></th>\n",
              "      <th>Date</th>\n",
              "      <th>Time</th>\n",
              "      <th>Global_active_power</th>\n",
              "      <th>Global_reactive_power</th>\n",
              "      <th>Voltage</th>\n",
              "      <th>Global_intensity</th>\n",
              "      <th>Sub_metering_1</th>\n",
              "      <th>Sub_metering_2</th>\n",
              "      <th>Sub_metering_3</th>\n",
              "    </tr>\n",
              "  </thead>\n",
              "  <tbody>\n",
              "    <tr>\n",
              "      <th>0</th>\n",
              "      <td>16/12/2006</td>\n",
              "      <td>17:24:00</td>\n",
              "      <td>4.216</td>\n",
              "      <td>0.418</td>\n",
              "      <td>234.840</td>\n",
              "      <td>18.400</td>\n",
              "      <td>0.000</td>\n",
              "      <td>1.000</td>\n",
              "      <td>17.0</td>\n",
              "    </tr>\n",
              "    <tr>\n",
              "      <th>1</th>\n",
              "      <td>16/12/2006</td>\n",
              "      <td>17:25:00</td>\n",
              "      <td>5.360</td>\n",
              "      <td>0.436</td>\n",
              "      <td>233.630</td>\n",
              "      <td>23.000</td>\n",
              "      <td>0.000</td>\n",
              "      <td>1.000</td>\n",
              "      <td>16.0</td>\n",
              "    </tr>\n",
              "    <tr>\n",
              "      <th>2</th>\n",
              "      <td>16/12/2006</td>\n",
              "      <td>17:26:00</td>\n",
              "      <td>5.374</td>\n",
              "      <td>0.498</td>\n",
              "      <td>233.290</td>\n",
              "      <td>23.000</td>\n",
              "      <td>0.000</td>\n",
              "      <td>2.000</td>\n",
              "      <td>17.0</td>\n",
              "    </tr>\n",
              "    <tr>\n",
              "      <th>3</th>\n",
              "      <td>16/12/2006</td>\n",
              "      <td>17:27:00</td>\n",
              "      <td>5.388</td>\n",
              "      <td>0.502</td>\n",
              "      <td>233.740</td>\n",
              "      <td>23.000</td>\n",
              "      <td>0.000</td>\n",
              "      <td>1.000</td>\n",
              "      <td>17.0</td>\n",
              "    </tr>\n",
              "    <tr>\n",
              "      <th>4</th>\n",
              "      <td>16/12/2006</td>\n",
              "      <td>17:28:00</td>\n",
              "      <td>3.666</td>\n",
              "      <td>0.528</td>\n",
              "      <td>235.680</td>\n",
              "      <td>15.800</td>\n",
              "      <td>0.000</td>\n",
              "      <td>1.000</td>\n",
              "      <td>17.0</td>\n",
              "    </tr>\n",
              "  </tbody>\n",
              "</table>\n",
              "</div>\n",
              "      <button class=\"colab-df-convert\" onclick=\"convertToInteractive('df-ec57bfdd-3932-4046-8b97-cb1e3b013fd6')\"\n",
              "              title=\"Convert this dataframe to an interactive table.\"\n",
              "              style=\"display:none;\">\n",
              "        \n",
              "  <svg xmlns=\"http://www.w3.org/2000/svg\" height=\"24px\"viewBox=\"0 0 24 24\"\n",
              "       width=\"24px\">\n",
              "    <path d=\"M0 0h24v24H0V0z\" fill=\"none\"/>\n",
              "    <path d=\"M18.56 5.44l.94 2.06.94-2.06 2.06-.94-2.06-.94-.94-2.06-.94 2.06-2.06.94zm-11 1L8.5 8.5l.94-2.06 2.06-.94-2.06-.94L8.5 2.5l-.94 2.06-2.06.94zm10 10l.94 2.06.94-2.06 2.06-.94-2.06-.94-.94-2.06-.94 2.06-2.06.94z\"/><path d=\"M17.41 7.96l-1.37-1.37c-.4-.4-.92-.59-1.43-.59-.52 0-1.04.2-1.43.59L10.3 9.45l-7.72 7.72c-.78.78-.78 2.05 0 2.83L4 21.41c.39.39.9.59 1.41.59.51 0 1.02-.2 1.41-.59l7.78-7.78 2.81-2.81c.8-.78.8-2.07 0-2.86zM5.41 20L4 18.59l7.72-7.72 1.47 1.35L5.41 20z\"/>\n",
              "  </svg>\n",
              "      </button>\n",
              "      \n",
              "  <style>\n",
              "    .colab-df-container {\n",
              "      display:flex;\n",
              "      flex-wrap:wrap;\n",
              "      gap: 12px;\n",
              "    }\n",
              "\n",
              "    .colab-df-convert {\n",
              "      background-color: #E8F0FE;\n",
              "      border: none;\n",
              "      border-radius: 50%;\n",
              "      cursor: pointer;\n",
              "      display: none;\n",
              "      fill: #1967D2;\n",
              "      height: 32px;\n",
              "      padding: 0 0 0 0;\n",
              "      width: 32px;\n",
              "    }\n",
              "\n",
              "    .colab-df-convert:hover {\n",
              "      background-color: #E2EBFA;\n",
              "      box-shadow: 0px 1px 2px rgba(60, 64, 67, 0.3), 0px 1px 3px 1px rgba(60, 64, 67, 0.15);\n",
              "      fill: #174EA6;\n",
              "    }\n",
              "\n",
              "    [theme=dark] .colab-df-convert {\n",
              "      background-color: #3B4455;\n",
              "      fill: #D2E3FC;\n",
              "    }\n",
              "\n",
              "    [theme=dark] .colab-df-convert:hover {\n",
              "      background-color: #434B5C;\n",
              "      box-shadow: 0px 1px 3px 1px rgba(0, 0, 0, 0.15);\n",
              "      filter: drop-shadow(0px 1px 2px rgba(0, 0, 0, 0.3));\n",
              "      fill: #FFFFFF;\n",
              "    }\n",
              "  </style>\n",
              "\n",
              "      <script>\n",
              "        const buttonEl =\n",
              "          document.querySelector('#df-ec57bfdd-3932-4046-8b97-cb1e3b013fd6 button.colab-df-convert');\n",
              "        buttonEl.style.display =\n",
              "          google.colab.kernel.accessAllowed ? 'block' : 'none';\n",
              "\n",
              "        async function convertToInteractive(key) {\n",
              "          const element = document.querySelector('#df-ec57bfdd-3932-4046-8b97-cb1e3b013fd6');\n",
              "          const dataTable =\n",
              "            await google.colab.kernel.invokeFunction('convertToInteractive',\n",
              "                                                     [key], {});\n",
              "          if (!dataTable) return;\n",
              "\n",
              "          const docLinkHtml = 'Like what you see? Visit the ' +\n",
              "            '<a target=\"_blank\" href=https://colab.research.google.com/notebooks/data_table.ipynb>data table notebook</a>'\n",
              "            + ' to learn more about interactive tables.';\n",
              "          element.innerHTML = '';\n",
              "          dataTable['output_type'] = 'display_data';\n",
              "          await google.colab.output.renderOutput(dataTable, element);\n",
              "          const docLink = document.createElement('div');\n",
              "          docLink.innerHTML = docLinkHtml;\n",
              "          element.appendChild(docLink);\n",
              "        }\n",
              "      </script>\n",
              "    </div>\n",
              "  </div>\n",
              "  "
            ]
          },
          "metadata": {},
          "execution_count": 5
        }
      ]
    },
    {
      "cell_type": "code",
      "source": [
        "data.shape"
      ],
      "metadata": {
        "colab": {
          "base_uri": "https://localhost:8080/"
        },
        "id": "_OEaQIM72o12",
        "outputId": "093f0197-fb5a-478a-b3ea-00bb104f88c8"
      },
      "execution_count": null,
      "outputs": [
        {
          "output_type": "execute_result",
          "data": {
            "text/plain": [
              "(2075259, 9)"
            ]
          },
          "metadata": {},
          "execution_count": 6
        }
      ]
    },
    {
      "cell_type": "markdown",
      "source": [
        "# **Preprocesamiento**"
      ],
      "metadata": {
        "id": "Tf6rYyE39alP"
      }
    },
    {
      "cell_type": "markdown",
      "source": [
        "Eliminación de datos en la columna Global_active_power con simbolos no numéricos"
      ],
      "metadata": {
        "id": "LyZU6OCX9du2"
      }
    },
    {
      "cell_type": "code",
      "source": [
        "dataset = data[data['Global_active_power'].str.contains(\"\\?\")==False]\n",
        "#dataset['Datetime'] = pd.to_datetime(dataset.Date.astype(str) + ' ' +dataset.Time.astype(str))\n",
        "dataset['Datetime'] = pd.to_datetime(dataset.Date)"
      ],
      "metadata": {
        "colab": {
          "base_uri": "https://localhost:8080/"
        },
        "id": "rVm0Q_zZWCUs",
        "outputId": "e441d6f1-89cb-4380-dec0-e90c76e184bc"
      },
      "execution_count": null,
      "outputs": [
        {
          "output_type": "stream",
          "name": "stderr",
          "text": [
            "<ipython-input-7-72a73556a74d>:3: SettingWithCopyWarning: \n",
            "A value is trying to be set on a copy of a slice from a DataFrame.\n",
            "Try using .loc[row_indexer,col_indexer] = value instead\n",
            "\n",
            "See the caveats in the documentation: https://pandas.pydata.org/pandas-docs/stable/user_guide/indexing.html#returning-a-view-versus-a-copy\n",
            "  dataset['Datetime'] = pd.to_datetime(dataset.Date)\n"
          ]
        }
      ]
    },
    {
      "cell_type": "markdown",
      "source": [
        "Crear un subdataset que solo contenga las columnas necesarias"
      ],
      "metadata": {
        "id": "I__y3cJk9oxn"
      }
    },
    {
      "cell_type": "code",
      "source": [
        "# Crear subdataset con 2 columnas (Datetime, Global_active_power)\n",
        "new_data = dataset[['Datetime', 'Global_active_power']]\n",
        "new_data['Global_active_power'] = pd.to_numeric(new_data['Global_active_power'])"
      ],
      "metadata": {
        "colab": {
          "base_uri": "https://localhost:8080/"
        },
        "id": "zLR-deCJz_30",
        "outputId": "f4d21a36-6e1b-47e3-c808-bfec4d10ca1b"
      },
      "execution_count": null,
      "outputs": [
        {
          "output_type": "stream",
          "name": "stderr",
          "text": [
            "<ipython-input-8-aa44b3cf3f4b>:3: SettingWithCopyWarning: \n",
            "A value is trying to be set on a copy of a slice from a DataFrame.\n",
            "Try using .loc[row_indexer,col_indexer] = value instead\n",
            "\n",
            "See the caveats in the documentation: https://pandas.pydata.org/pandas-docs/stable/user_guide/indexing.html#returning-a-view-versus-a-copy\n",
            "  new_data['Global_active_power'] = pd.to_numeric(new_data['Global_active_power'])\n"
          ]
        }
      ]
    },
    {
      "cell_type": "markdown",
      "source": [
        "## Agrupar datos del mismo día utilizando la media para la columna GLobal_active_power"
      ],
      "metadata": {
        "id": "FGnh_iYL9tnA"
      }
    },
    {
      "cell_type": "code",
      "source": [
        "new_data = new_data.groupby(['Datetime']).mean()\n",
        "#new_data = new_data.set_index('Datetime')\n",
        "new_data.info()"
      ],
      "metadata": {
        "colab": {
          "base_uri": "https://localhost:8080/"
        },
        "id": "BO9u5uZR0Bt6",
        "outputId": "2aecd7a0-6951-4d10-a3ef-eb828045392e"
      },
      "execution_count": null,
      "outputs": [
        {
          "output_type": "stream",
          "name": "stdout",
          "text": [
            "<class 'pandas.core.frame.DataFrame'>\n",
            "DatetimeIndex: 1433 entries, 2006-12-16 to 2010-12-11\n",
            "Data columns (total 1 columns):\n",
            " #   Column               Non-Null Count  Dtype  \n",
            "---  ------               --------------  -----  \n",
            " 0   Global_active_power  1433 non-null   float64\n",
            "dtypes: float64(1)\n",
            "memory usage: 22.4 KB\n"
          ]
        }
      ]
    },
    {
      "cell_type": "markdown",
      "source": [
        "Resultado del dataset después del preprocesamiento"
      ],
      "metadata": {
        "id": "FaIYZ3Ii97hW"
      }
    },
    {
      "cell_type": "code",
      "source": [
        "new_data"
      ],
      "metadata": {
        "colab": {
          "base_uri": "https://localhost:8080/",
          "height": 455
        },
        "id": "ywqfn2w8586A",
        "outputId": "579c36a1-b54a-4800-9a5c-e1854e665111"
      },
      "execution_count": null,
      "outputs": [
        {
          "output_type": "execute_result",
          "data": {
            "text/plain": [
              "            Global_active_power\n",
              "Datetime                       \n",
              "2006-12-16             3.053475\n",
              "2006-12-17             2.354486\n",
              "2006-12-18             1.530435\n",
              "2006-12-19             1.157079\n",
              "2006-12-20             1.545658\n",
              "...                         ...\n",
              "2010-12-07             0.770538\n",
              "2010-12-08             0.367846\n",
              "2010-12-09             1.119508\n",
              "2010-12-10             1.097008\n",
              "2010-12-11             1.275571\n",
              "\n",
              "[1433 rows x 1 columns]"
            ],
            "text/html": [
              "\n",
              "  <div id=\"df-3dd61e27-d158-4a8a-960c-aa0208016ee9\">\n",
              "    <div class=\"colab-df-container\">\n",
              "      <div>\n",
              "<style scoped>\n",
              "    .dataframe tbody tr th:only-of-type {\n",
              "        vertical-align: middle;\n",
              "    }\n",
              "\n",
              "    .dataframe tbody tr th {\n",
              "        vertical-align: top;\n",
              "    }\n",
              "\n",
              "    .dataframe thead th {\n",
              "        text-align: right;\n",
              "    }\n",
              "</style>\n",
              "<table border=\"1\" class=\"dataframe\">\n",
              "  <thead>\n",
              "    <tr style=\"text-align: right;\">\n",
              "      <th></th>\n",
              "      <th>Global_active_power</th>\n",
              "    </tr>\n",
              "    <tr>\n",
              "      <th>Datetime</th>\n",
              "      <th></th>\n",
              "    </tr>\n",
              "  </thead>\n",
              "  <tbody>\n",
              "    <tr>\n",
              "      <th>2006-12-16</th>\n",
              "      <td>3.053475</td>\n",
              "    </tr>\n",
              "    <tr>\n",
              "      <th>2006-12-17</th>\n",
              "      <td>2.354486</td>\n",
              "    </tr>\n",
              "    <tr>\n",
              "      <th>2006-12-18</th>\n",
              "      <td>1.530435</td>\n",
              "    </tr>\n",
              "    <tr>\n",
              "      <th>2006-12-19</th>\n",
              "      <td>1.157079</td>\n",
              "    </tr>\n",
              "    <tr>\n",
              "      <th>2006-12-20</th>\n",
              "      <td>1.545658</td>\n",
              "    </tr>\n",
              "    <tr>\n",
              "      <th>...</th>\n",
              "      <td>...</td>\n",
              "    </tr>\n",
              "    <tr>\n",
              "      <th>2010-12-07</th>\n",
              "      <td>0.770538</td>\n",
              "    </tr>\n",
              "    <tr>\n",
              "      <th>2010-12-08</th>\n",
              "      <td>0.367846</td>\n",
              "    </tr>\n",
              "    <tr>\n",
              "      <th>2010-12-09</th>\n",
              "      <td>1.119508</td>\n",
              "    </tr>\n",
              "    <tr>\n",
              "      <th>2010-12-10</th>\n",
              "      <td>1.097008</td>\n",
              "    </tr>\n",
              "    <tr>\n",
              "      <th>2010-12-11</th>\n",
              "      <td>1.275571</td>\n",
              "    </tr>\n",
              "  </tbody>\n",
              "</table>\n",
              "<p>1433 rows × 1 columns</p>\n",
              "</div>\n",
              "      <button class=\"colab-df-convert\" onclick=\"convertToInteractive('df-3dd61e27-d158-4a8a-960c-aa0208016ee9')\"\n",
              "              title=\"Convert this dataframe to an interactive table.\"\n",
              "              style=\"display:none;\">\n",
              "        \n",
              "  <svg xmlns=\"http://www.w3.org/2000/svg\" height=\"24px\"viewBox=\"0 0 24 24\"\n",
              "       width=\"24px\">\n",
              "    <path d=\"M0 0h24v24H0V0z\" fill=\"none\"/>\n",
              "    <path d=\"M18.56 5.44l.94 2.06.94-2.06 2.06-.94-2.06-.94-.94-2.06-.94 2.06-2.06.94zm-11 1L8.5 8.5l.94-2.06 2.06-.94-2.06-.94L8.5 2.5l-.94 2.06-2.06.94zm10 10l.94 2.06.94-2.06 2.06-.94-2.06-.94-.94-2.06-.94 2.06-2.06.94z\"/><path d=\"M17.41 7.96l-1.37-1.37c-.4-.4-.92-.59-1.43-.59-.52 0-1.04.2-1.43.59L10.3 9.45l-7.72 7.72c-.78.78-.78 2.05 0 2.83L4 21.41c.39.39.9.59 1.41.59.51 0 1.02-.2 1.41-.59l7.78-7.78 2.81-2.81c.8-.78.8-2.07 0-2.86zM5.41 20L4 18.59l7.72-7.72 1.47 1.35L5.41 20z\"/>\n",
              "  </svg>\n",
              "      </button>\n",
              "      \n",
              "  <style>\n",
              "    .colab-df-container {\n",
              "      display:flex;\n",
              "      flex-wrap:wrap;\n",
              "      gap: 12px;\n",
              "    }\n",
              "\n",
              "    .colab-df-convert {\n",
              "      background-color: #E8F0FE;\n",
              "      border: none;\n",
              "      border-radius: 50%;\n",
              "      cursor: pointer;\n",
              "      display: none;\n",
              "      fill: #1967D2;\n",
              "      height: 32px;\n",
              "      padding: 0 0 0 0;\n",
              "      width: 32px;\n",
              "    }\n",
              "\n",
              "    .colab-df-convert:hover {\n",
              "      background-color: #E2EBFA;\n",
              "      box-shadow: 0px 1px 2px rgba(60, 64, 67, 0.3), 0px 1px 3px 1px rgba(60, 64, 67, 0.15);\n",
              "      fill: #174EA6;\n",
              "    }\n",
              "\n",
              "    [theme=dark] .colab-df-convert {\n",
              "      background-color: #3B4455;\n",
              "      fill: #D2E3FC;\n",
              "    }\n",
              "\n",
              "    [theme=dark] .colab-df-convert:hover {\n",
              "      background-color: #434B5C;\n",
              "      box-shadow: 0px 1px 3px 1px rgba(0, 0, 0, 0.15);\n",
              "      filter: drop-shadow(0px 1px 2px rgba(0, 0, 0, 0.3));\n",
              "      fill: #FFFFFF;\n",
              "    }\n",
              "  </style>\n",
              "\n",
              "      <script>\n",
              "        const buttonEl =\n",
              "          document.querySelector('#df-3dd61e27-d158-4a8a-960c-aa0208016ee9 button.colab-df-convert');\n",
              "        buttonEl.style.display =\n",
              "          google.colab.kernel.accessAllowed ? 'block' : 'none';\n",
              "\n",
              "        async function convertToInteractive(key) {\n",
              "          const element = document.querySelector('#df-3dd61e27-d158-4a8a-960c-aa0208016ee9');\n",
              "          const dataTable =\n",
              "            await google.colab.kernel.invokeFunction('convertToInteractive',\n",
              "                                                     [key], {});\n",
              "          if (!dataTable) return;\n",
              "\n",
              "          const docLinkHtml = 'Like what you see? Visit the ' +\n",
              "            '<a target=\"_blank\" href=https://colab.research.google.com/notebooks/data_table.ipynb>data table notebook</a>'\n",
              "            + ' to learn more about interactive tables.';\n",
              "          element.innerHTML = '';\n",
              "          dataTable['output_type'] = 'display_data';\n",
              "          await google.colab.output.renderOutput(dataTable, element);\n",
              "          const docLink = document.createElement('div');\n",
              "          docLink.innerHTML = docLinkHtml;\n",
              "          element.appendChild(docLink);\n",
              "        }\n",
              "      </script>\n",
              "    </div>\n",
              "  </div>\n",
              "  "
            ]
          },
          "metadata": {},
          "execution_count": 10
        }
      ]
    },
    {
      "cell_type": "markdown",
      "source": [
        "### **Visualización**"
      ],
      "metadata": {
        "id": "ClBYQM1E-AzH"
      }
    },
    {
      "cell_type": "code",
      "source": [
        "set_entrenamiento = new_data[:'2009'].iloc[:,0:1]\n",
        "set_validacion = new_data['2010':].iloc[:,0:1]\n",
        "\n",
        "figure(figsize=(10, 6), dpi=80)\n",
        "set_entrenamiento['Global_active_power'].plot(legend=True)\n",
        "set_validacion['Global_active_power'].plot(legend=True)\n",
        "plt.legend(['Entrenamiento (2006-2009)', 'Validación (2010)'])\n",
        "plt.show()"
      ],
      "metadata": {
        "colab": {
          "base_uri": "https://localhost:8080/",
          "height": 413
        },
        "id": "Wh-tUIBBdOvB",
        "outputId": "c711633e-c928-4124-f2a4-83e299da1775"
      },
      "execution_count": null,
      "outputs": [
        {
          "output_type": "display_data",
          "data": {
            "text/plain": [
              "<Figure size 800x480 with 1 Axes>"
            ],
            "image/png": "[encoded data removed]"
          },
          "metadata": {
            "needs_background": "light"
          }
        }
      ]
    },
    {
      "cell_type": "markdown",
      "source": [
        "##Obtencion de data"
      ],
      "metadata": {
        "id": "GpQoI2tyPFOy"
      }
    },
    {
      "cell_type": "code",
      "source": [
        "dataset=data.dropna()"
      ],
      "metadata": {
        "id": "H8ggi5UEO5hS"
      },
      "execution_count": null,
      "outputs": []
    },
    {
      "cell_type": "code",
      "source": [
        "dataset['Global_active_power'] =dataset['Global_active_power'].astype(float)\n",
        "dataset['Global_active_power']=dataset['Global_active_power'].astype(float)\n",
        "dataset['Global_reactive_power']=dataset['Global_reactive_power'].astype(float)\n",
        "dataset['Voltage']=dataset['Voltage'].astype(float)\n",
        "dataset['Global_intensity']=dataset['Global_intensity'].astype(float)\n",
        "dataset['Sub_metering_1']=dataset['Sub_metering_1'].astype(float)\n",
        "dataset['Sub_metering_2']=dataset['Sub_metering_2'].astype(float)\n",
        "dataset['Sub_metering_3']=dataset['Sub_metering_3'].astype(float)"
      ],
      "metadata": {
        "colab": {
          "base_uri": "https://localhost:8080/"
        },
        "id": "ddPdW7NRPONa",
        "outputId": "ef917d1a-68c7-4768-892b-3d26e5399185"
      },
      "execution_count": null,
      "outputs": [
        {
          "output_type": "stream",
          "name": "stderr",
          "text": [
            "<ipython-input-13-3dc372e8fa6e>:1: SettingWithCopyWarning: \n",
            "A value is trying to be set on a copy of a slice from a DataFrame.\n",
            "Try using .loc[row_indexer,col_indexer] = value instead\n",
            "\n",
            "See the caveats in the documentation: https://pandas.pydata.org/pandas-docs/stable/user_guide/indexing.html#returning-a-view-versus-a-copy\n",
            "  dataset['Global_active_power'] =dataset['Global_active_power'].astype(float)\n",
            "<ipython-input-13-3dc372e8fa6e>:2: SettingWithCopyWarning: \n",
            "A value is trying to be set on a copy of a slice from a DataFrame.\n",
            "Try using .loc[row_indexer,col_indexer] = value instead\n",
            "\n",
            "See the caveats in the documentation: https://pandas.pydata.org/pandas-docs/stable/user_guide/indexing.html#returning-a-view-versus-a-copy\n",
            "  dataset['Global_active_power']=dataset['Global_active_power'].astype(float)\n",
            "<ipython-input-13-3dc372e8fa6e>:3: SettingWithCopyWarning: \n",
            "A value is trying to be set on a copy of a slice from a DataFrame.\n",
            "Try using .loc[row_indexer,col_indexer] = value instead\n",
            "\n",
            "See the caveats in the documentation: https://pandas.pydata.org/pandas-docs/stable/user_guide/indexing.html#returning-a-view-versus-a-copy\n",
            "  dataset['Global_reactive_power']=dataset['Global_reactive_power'].astype(float)\n",
            "<ipython-input-13-3dc372e8fa6e>:4: SettingWithCopyWarning: \n",
            "A value is trying to be set on a copy of a slice from a DataFrame.\n",
            "Try using .loc[row_indexer,col_indexer] = value instead\n",
            "\n",
            "See the caveats in the documentation: https://pandas.pydata.org/pandas-docs/stable/user_guide/indexing.html#returning-a-view-versus-a-copy\n",
            "  dataset['Voltage']=dataset['Voltage'].astype(float)\n",
            "<ipython-input-13-3dc372e8fa6e>:5: SettingWithCopyWarning: \n",
            "A value is trying to be set on a copy of a slice from a DataFrame.\n",
            "Try using .loc[row_indexer,col_indexer] = value instead\n",
            "\n",
            "See the caveats in the documentation: https://pandas.pydata.org/pandas-docs/stable/user_guide/indexing.html#returning-a-view-versus-a-copy\n",
            "  dataset['Global_intensity']=dataset['Global_intensity'].astype(float)\n",
            "<ipython-input-13-3dc372e8fa6e>:6: SettingWithCopyWarning: \n",
            "A value is trying to be set on a copy of a slice from a DataFrame.\n",
            "Try using .loc[row_indexer,col_indexer] = value instead\n",
            "\n",
            "See the caveats in the documentation: https://pandas.pydata.org/pandas-docs/stable/user_guide/indexing.html#returning-a-view-versus-a-copy\n",
            "  dataset['Sub_metering_1']=dataset['Sub_metering_1'].astype(float)\n",
            "<ipython-input-13-3dc372e8fa6e>:7: SettingWithCopyWarning: \n",
            "A value is trying to be set on a copy of a slice from a DataFrame.\n",
            "Try using .loc[row_indexer,col_indexer] = value instead\n",
            "\n",
            "See the caveats in the documentation: https://pandas.pydata.org/pandas-docs/stable/user_guide/indexing.html#returning-a-view-versus-a-copy\n",
            "  dataset['Sub_metering_2']=dataset['Sub_metering_2'].astype(float)\n",
            "<ipython-input-13-3dc372e8fa6e>:8: SettingWithCopyWarning: \n",
            "A value is trying to be set on a copy of a slice from a DataFrame.\n",
            "Try using .loc[row_indexer,col_indexer] = value instead\n",
            "\n",
            "See the caveats in the documentation: https://pandas.pydata.org/pandas-docs/stable/user_guide/indexing.html#returning-a-view-versus-a-copy\n",
            "  dataset['Sub_metering_3']=dataset['Sub_metering_3'].astype(float)\n"
          ]
        }
      ]
    },
    {
      "cell_type": "code",
      "source": [
        "dataset.dtypes"
      ],
      "metadata": {
        "colab": {
          "base_uri": "https://localhost:8080/"
        },
        "id": "_Eq1W8rGPSh6",
        "outputId": "7d4fa3cb-6e17-44b7-a11f-32701c31ea23"
      },
      "execution_count": null,
      "outputs": [
        {
          "output_type": "execute_result",
          "data": {
            "text/plain": [
              "Date                      object\n",
              "Time                      object\n",
              "Global_active_power      float64\n",
              "Global_reactive_power    float64\n",
              "Voltage                  float64\n",
              "Global_intensity         float64\n",
              "Sub_metering_1           float64\n",
              "Sub_metering_2           float64\n",
              "Sub_metering_3           float64\n",
              "dtype: object"
            ]
          },
          "metadata": {},
          "execution_count": 14
        }
      ]
    },
    {
      "cell_type": "code",
      "source": [
        "dataset"
      ],
      "metadata": {
        "colab": {
          "base_uri": "https://localhost:8080/",
          "height": 488
        },
        "id": "5Ukkg7FMPWeZ",
        "outputId": "02260b74-2acb-47fd-f665-3bbff5d686da"
      },
      "execution_count": null,
      "outputs": [
        {
          "output_type": "execute_result",
          "data": {
            "text/plain": [
              "               Date      Time  Global_active_power  Global_reactive_power  \\\n",
              "0        16/12/2006  17:24:00                4.216                  0.418   \n",
              "1        16/12/2006  17:25:00                5.360                  0.436   \n",
              "2        16/12/2006  17:26:00                5.374                  0.498   \n",
              "3        16/12/2006  17:27:00                5.388                  0.502   \n",
              "4        16/12/2006  17:28:00                3.666                  0.528   \n",
              "...             ...       ...                  ...                    ...   \n",
              "2075254  26/11/2010  20:58:00                0.946                  0.000   \n",
              "2075255  26/11/2010  20:59:00                0.944                  0.000   \n",
              "2075256  26/11/2010  21:00:00                0.938                  0.000   \n",
              "2075257  26/11/2010  21:01:00                0.934                  0.000   \n",
              "2075258  26/11/2010  21:02:00                0.932                  0.000   \n",
              "\n",
              "         Voltage  Global_intensity  Sub_metering_1  Sub_metering_2  \\\n",
              "0         234.84              18.4             0.0             1.0   \n",
              "1         233.63              23.0             0.0             1.0   \n",
              "2         233.29              23.0             0.0             2.0   \n",
              "3         233.74              23.0             0.0             1.0   \n",
              "4         235.68              15.8             0.0             1.0   \n",
              "...          ...               ...             ...             ...   \n",
              "2075254   240.43               4.0             0.0             0.0   \n",
              "2075255   240.00               4.0             0.0             0.0   \n",
              "2075256   239.82               3.8             0.0             0.0   \n",
              "2075257   239.70               3.8             0.0             0.0   \n",
              "2075258   239.55               3.8             0.0             0.0   \n",
              "\n",
              "         Sub_metering_3  \n",
              "0                  17.0  \n",
              "1                  16.0  \n",
              "2                  17.0  \n",
              "3                  17.0  \n",
              "4                  17.0  \n",
              "...                 ...  \n",
              "2075254             0.0  \n",
              "2075255             0.0  \n",
              "2075256             0.0  \n",
              "2075257             0.0  \n",
              "2075258             0.0  \n",
              "\n",
              "[2049280 rows x 9 columns]"
            ],
            "text/html": [
              "\n",
              "  <div id=\"df-9fae2cc1-a620-48fb-869e-badfe7c9c5b8\">\n",
              "    <div class=\"colab-df-container\">\n",
              "      <div>\n",
              "<style scoped>\n",
              "    .dataframe tbody tr th:only-of-type {\n",
              "        vertical-align: middle;\n",
              "    }\n",
              "\n",
              "    .dataframe tbody tr th {\n",
              "        vertical-align: top;\n",
              "    }\n",
              "\n",
              "    .dataframe thead th {\n",
              "        text-align: right;\n",
              "    }\n",
              "</style>\n",
              "<table border=\"1\" class=\"dataframe\">\n",
              "  <thead>\n",
              "    <tr style=\"text-align: right;\">\n",
              "      <th></th>\n",
              "      <th>Date</th>\n",
              "      <th>Time</th>\n",
              "      <th>Global_active_power</th>\n",
              "      <th>Global_reactive_power</th>\n",
              "      <th>Voltage</th>\n",
              "      <th>Global_intensity</th>\n",
              "      <th>Sub_metering_1</th>\n",
              "      <th>Sub_metering_2</th>\n",
              "      <th>Sub_metering_3</th>\n",
              "    </tr>\n",
              "  </thead>\n",
              "  <tbody>\n",
              "    <tr>\n",
              "      <th>0</th>\n",
              "      <td>16/12/2006</td>\n",
              "      <td>17:24:00</td>\n",
              "      <td>4.216</td>\n",
              "      <td>0.418</td>\n",
              "      <td>234.84</td>\n",
              "      <td>18.4</td>\n",
              "      <td>0.0</td>\n",
              "      <td>1.0</td>\n",
              "      <td>17.0</td>\n",
              "    </tr>\n",
              "    <tr>\n",
              "      <th>1</th>\n",
              "      <td>16/12/2006</td>\n",
              "      <td>17:25:00</td>\n",
              "      <td>5.360</td>\n",
              "      <td>0.436</td>\n",
              "      <td>233.63</td>\n",
              "      <td>23.0</td>\n",
              "      <td>0.0</td>\n",
              "      <td>1.0</td>\n",
              "      <td>16.0</td>\n",
              "    </tr>\n",
              "    <tr>\n",
              "      <th>2</th>\n",
              "      <td>16/12/2006</td>\n",
              "      <td>17:26:00</td>\n",
              "      <td>5.374</td>\n",
              "      <td>0.498</td>\n",
              "      <td>233.29</td>\n",
              "      <td>23.0</td>\n",
              "      <td>0.0</td>\n",
              "      <td>2.0</td>\n",
              "      <td>17.0</td>\n",
              "    </tr>\n",
              "    <tr>\n",
              "      <th>3</th>\n",
              "      <td>16/12/2006</td>\n",
              "      <td>17:27:00</td>\n",
              "      <td>5.388</td>\n",
              "      <td>0.502</td>\n",
              "      <td>233.74</td>\n",
              "      <td>23.0</td>\n",
              "      <td>0.0</td>\n",
              "      <td>1.0</td>\n",
              "      <td>17.0</td>\n",
              "    </tr>\n",
              "    <tr>\n",
              "      <th>4</th>\n",
              "      <td>16/12/2006</td>\n",
              "      <td>17:28:00</td>\n",
              "      <td>3.666</td>\n",
              "      <td>0.528</td>\n",
              "      <td>235.68</td>\n",
              "      <td>15.8</td>\n",
              "      <td>0.0</td>\n",
              "      <td>1.0</td>\n",
              "      <td>17.0</td>\n",
              "    </tr>\n",
              "    <tr>\n",
              "      <th>...</th>\n",
              "      <td>...</td>\n",
              "      <td>...</td>\n",
              "      <td>...</td>\n",
              "      <td>...</td>\n",
              "      <td>...</td>\n",
              "      <td>...</td>\n",
              "      <td>...</td>\n",
              "      <td>...</td>\n",
              "      <td>...</td>\n",
              "    </tr>\n",
              "    <tr>\n",
              "      <th>2075254</th>\n",
              "      <td>26/11/2010</td>\n",
              "      <td>20:58:00</td>\n",
              "      <td>0.946</td>\n",
              "      <td>0.000</td>\n",
              "      <td>240.43</td>\n",
              "      <td>4.0</td>\n",
              "      <td>0.0</td>\n",
              "      <td>0.0</td>\n",
              "      <td>0.0</td>\n",
              "    </tr>\n",
              "    <tr>\n",
              "      <th>2075255</th>\n",
              "      <td>26/11/2010</td>\n",
              "      <td>20:59:00</td>\n",
              "      <td>0.944</td>\n",
              "      <td>0.000</td>\n",
              "      <td>240.00</td>\n",
              "      <td>4.0</td>\n",
              "      <td>0.0</td>\n",
              "      <td>0.0</td>\n",
              "      <td>0.0</td>\n",
              "    </tr>\n",
              "    <tr>\n",
              "      <th>2075256</th>\n",
              "      <td>26/11/2010</td>\n",
              "      <td>21:00:00</td>\n",
              "      <td>0.938</td>\n",
              "      <td>0.000</td>\n",
              "      <td>239.82</td>\n",
              "      <td>3.8</td>\n",
              "      <td>0.0</td>\n",
              "      <td>0.0</td>\n",
              "      <td>0.0</td>\n",
              "    </tr>\n",
              "    <tr>\n",
              "      <th>2075257</th>\n",
              "      <td>26/11/2010</td>\n",
              "      <td>21:01:00</td>\n",
              "      <td>0.934</td>\n",
              "      <td>0.000</td>\n",
              "      <td>239.70</td>\n",
              "      <td>3.8</td>\n",
              "      <td>0.0</td>\n",
              "      <td>0.0</td>\n",
              "      <td>0.0</td>\n",
              "    </tr>\n",
              "    <tr>\n",
              "      <th>2075258</th>\n",
              "      <td>26/11/2010</td>\n",
              "      <td>21:02:00</td>\n",
              "      <td>0.932</td>\n",
              "      <td>0.000</td>\n",
              "      <td>239.55</td>\n",
              "      <td>3.8</td>\n",
              "      <td>0.0</td>\n",
              "      <td>0.0</td>\n",
              "      <td>0.0</td>\n",
              "    </tr>\n",
              "  </tbody>\n",
              "</table>\n",
              "<p>2049280 rows × 9 columns</p>\n",
              "</div>\n",
              "      <button class=\"colab-df-convert\" onclick=\"convertToInteractive('df-9fae2cc1-a620-48fb-869e-badfe7c9c5b8')\"\n",
              "              title=\"Convert this dataframe to an interactive table.\"\n",
              "              style=\"display:none;\">\n",
              "        \n",
              "  <svg xmlns=\"http://www.w3.org/2000/svg\" height=\"24px\"viewBox=\"0 0 24 24\"\n",
              "       width=\"24px\">\n",
              "    <path d=\"M0 0h24v24H0V0z\" fill=\"none\"/>\n",
              "    <path d=\"M18.56 5.44l.94 2.06.94-2.06 2.06-.94-2.06-.94-.94-2.06-.94 2.06-2.06.94zm-11 1L8.5 8.5l.94-2.06 2.06-.94-2.06-.94L8.5 2.5l-.94 2.06-2.06.94zm10 10l.94 2.06.94-2.06 2.06-.94-2.06-.94-.94-2.06-.94 2.06-2.06.94z\"/><path d=\"M17.41 7.96l-1.37-1.37c-.4-.4-.92-.59-1.43-.59-.52 0-1.04.2-1.43.59L10.3 9.45l-7.72 7.72c-.78.78-.78 2.05 0 2.83L4 21.41c.39.39.9.59 1.41.59.51 0 1.02-.2 1.41-.59l7.78-7.78 2.81-2.81c.8-.78.8-2.07 0-2.86zM5.41 20L4 18.59l7.72-7.72 1.47 1.35L5.41 20z\"/>\n",
              "  </svg>\n",
              "      </button>\n",
              "      \n",
              "  <style>\n",
              "    .colab-df-container {\n",
              "      display:flex;\n",
              "      flex-wrap:wrap;\n",
              "      gap: 12px;\n",
              "    }\n",
              "\n",
              "    .colab-df-convert {\n",
              "      background-color: #E8F0FE;\n",
              "      border: none;\n",
              "      border-radius: 50%;\n",
              "      cursor: pointer;\n",
              "      display: none;\n",
              "      fill: #1967D2;\n",
              "      height: 32px;\n",
              "      padding: 0 0 0 0;\n",
              "      width: 32px;\n",
              "    }\n",
              "\n",
              "    .colab-df-convert:hover {\n",
              "      background-color: #E2EBFA;\n",
              "      box-shadow: 0px 1px 2px rgba(60, 64, 67, 0.3), 0px 1px 3px 1px rgba(60, 64, 67, 0.15);\n",
              "      fill: #174EA6;\n",
              "    }\n",
              "\n",
              "    [theme=dark] .colab-df-convert {\n",
              "      background-color: #3B4455;\n",
              "      fill: #D2E3FC;\n",
              "    }\n",
              "\n",
              "    [theme=dark] .colab-df-convert:hover {\n",
              "      background-color: #434B5C;\n",
              "      box-shadow: 0px 1px 3px 1px rgba(0, 0, 0, 0.15);\n",
              "      filter: drop-shadow(0px 1px 2px rgba(0, 0, 0, 0.3));\n",
              "      fill: #FFFFFF;\n",
              "    }\n",
              "  </style>\n",
              "\n",
              "      <script>\n",
              "        const buttonEl =\n",
              "          document.querySelector('#df-9fae2cc1-a620-48fb-869e-badfe7c9c5b8 button.colab-df-convert');\n",
              "        buttonEl.style.display =\n",
              "          google.colab.kernel.accessAllowed ? 'block' : 'none';\n",
              "\n",
              "        async function convertToInteractive(key) {\n",
              "          const element = document.querySelector('#df-9fae2cc1-a620-48fb-869e-badfe7c9c5b8');\n",
              "          const dataTable =\n",
              "            await google.colab.kernel.invokeFunction('convertToInteractive',\n",
              "                                                     [key], {});\n",
              "          if (!dataTable) return;\n",
              "\n",
              "          const docLinkHtml = 'Like what you see? Visit the ' +\n",
              "            '<a target=\"_blank\" href=https://colab.research.google.com/notebooks/data_table.ipynb>data table notebook</a>'\n",
              "            + ' to learn more about interactive tables.';\n",
              "          element.innerHTML = '';\n",
              "          dataTable['output_type'] = 'display_data';\n",
              "          await google.colab.output.renderOutput(dataTable, element);\n",
              "          const docLink = document.createElement('div');\n",
              "          docLink.innerHTML = docLinkHtml;\n",
              "          element.appendChild(docLink);\n",
              "        }\n",
              "      </script>\n",
              "    </div>\n",
              "  </div>\n",
              "  "
            ]
          },
          "metadata": {},
          "execution_count": 15
        }
      ]
    },
    {
      "cell_type": "code",
      "source": [
        "group=dataset.groupby(\"Date\")\n",
        "data=group[\"Global_active_power\"].mean()\n",
        "data.shape"
      ],
      "metadata": {
        "colab": {
          "base_uri": "https://localhost:8080/"
        },
        "id": "FPkMUqVrPaX6",
        "outputId": "0f27a498-049c-44aa-f8ea-f22f70d92ea0"
      },
      "execution_count": null,
      "outputs": [
        {
          "output_type": "execute_result",
          "data": {
            "text/plain": [
              "(1433,)"
            ]
          },
          "metadata": {},
          "execution_count": 16
        }
      ]
    },
    {
      "cell_type": "code",
      "source": [
        "data"
      ],
      "metadata": {
        "colab": {
          "base_uri": "https://localhost:8080/"
        },
        "id": "FsjJyd67PcMh",
        "outputId": "c32dc2b3-1ac0-4bd9-88ac-76bd9e440082"
      },
      "execution_count": null,
      "outputs": [
        {
          "output_type": "execute_result",
          "data": {
            "text/plain": [
              "Date\n",
              "1/1/2007     1.909031\n",
              "1/1/2008     1.916485\n",
              "1/1/2009     0.976869\n",
              "1/1/2010     0.850175\n",
              "1/10/2007    1.195085\n",
              "               ...   \n",
              "9/8/2010     0.371572\n",
              "9/9/2007     1.166321\n",
              "9/9/2008     0.805315\n",
              "9/9/2009     1.056489\n",
              "9/9/2010     0.860218\n",
              "Name: Global_active_power, Length: 1433, dtype: float64"
            ]
          },
          "metadata": {},
          "execution_count": 17
        }
      ]
    },
    {
      "cell_type": "code",
      "source": [
        "close_train=data.iloc[:len(data)-60]\n",
        "close_test=data.iloc[len(close_train):]\n",
        "\n",
        "close_train=np.array(close_train)\n",
        "close_train=close_train.reshape(close_train.shape[0],1)"
      ],
      "metadata": {
        "id": "7gA9lkCLPdzB"
      },
      "execution_count": null,
      "outputs": []
    },
    {
      "cell_type": "code",
      "source": [],
      "metadata": {
        "id": "Bi2xXkTZPeyK"
      },
      "execution_count": null,
      "outputs": []
    },
    {
      "cell_type": "markdown",
      "source": [
        "##NORMALIZACION PARA EL ENTRENAMIENTO"
      ],
      "metadata": {
        "id": "ZXJ61RLaPU6x"
      }
    },
    {
      "cell_type": "code",
      "source": [
        "from sklearn.preprocessing import MinMaxScaler\n",
        "scaler=MinMaxScaler(feature_range=(0,1))\n",
        "close_scaled=scaler.fit_transform(close_train)"
      ],
      "metadata": {
        "id": "lBSThrDdPjvK"
      },
      "execution_count": null,
      "outputs": []
    },
    {
      "cell_type": "code",
      "source": [
        "timestep=60\n",
        "x_train=[]\n",
        "y_train=[]\n",
        "\n",
        "for i in range(timestep,close_scaled.shape[0]):\n",
        "    x_train.append(close_scaled[i-timestep:i,0])\n",
        "    y_train.append(close_scaled[i,0])\n",
        "\n",
        "x_train,y_train=np.array(x_train),np.array(y_train)\n",
        "x_train=x_train.reshape(x_train.shape[0],x_train.shape[1],1) #reshaped for RNN\n",
        "\n",
        "print(\"x-train-shape= \",x_train.shape)\n",
        "print(\"y-train-shape= \",y_train.shape)"
      ],
      "metadata": {
        "colab": {
          "base_uri": "https://localhost:8080/"
        },
        "id": "vko_I5fYPoKy",
        "outputId": "bdef1cab-0fb0-46f5-bf03-fc44792baf31"
      },
      "execution_count": null,
      "outputs": [
        {
          "output_type": "stream",
          "name": "stdout",
          "text": [
            "x-train-shape=  (1313, 60, 1)\n",
            "y-train-shape=  (1313,)\n"
          ]
        }
      ]
    },
    {
      "cell_type": "markdown",
      "source": [
        "##CREACION DEL MODELO"
      ],
      "metadata": {
        "id": "zqwex0SpPrXz"
      }
    },
    {
      "cell_type": "code",
      "source": [
        "from sklearn.metrics import mean_absolute_error\n",
        "from keras.layers import Dense, LSTM\n",
        "from keras.models import Sequential\n",
        "from keras.layers import Dense, Dropout\n",
        "mode = Sequential()\n",
        "mode.add(LSTM(50, return_sequences=True, input_shape=(x_train.shape[1],1)))\n",
        "mode.add(Dropout(0.2))\n",
        "mode.add(LSTM(100,return_sequences=False))\n",
        "mode.add(Dropout(0.2))\n",
        "mode.add(Dense(1, activation = \"linear\"))\n",
        "mode.compile(loss=\"mean_squared_error\",optimizer=\"rmsprop\")\n"
      ],
      "metadata": {
        "id": "hazamKrSPp3R"
      },
      "execution_count": null,
      "outputs": []
    },
    {
      "cell_type": "code",
      "source": [
        "mode.fit(x_train,y_train,epochs= 200,batch_size=64)"
      ],
      "metadata": {
        "colab": {
          "base_uri": "https://localhost:8080/"
        },
        "id": "iZxd7IfkPyBj",
        "outputId": "13c2f859-1c06-4330-8b70-268321929408"
      },
      "execution_count": null,
      "outputs": [
        {
          "output_type": "stream",
          "name": "stdout",
          "text": [
            "Epoch 1/200\n",
            "21/21 [==============================] - 7s 11ms/step - loss: 0.0248\n",
            "Epoch 2/200\n",
            "21/21 [==============================] - 0s 10ms/step - loss: 0.0185\n",
            "Epoch 3/200\n",
            "21/21 [==============================] - 0s 9ms/step - loss: 0.0174\n",
            "Epoch 4/200\n",
            "21/21 [==============================] - 0s 9ms/step - loss: 0.0163\n",
            "Epoch 5/200\n",
            "21/21 [==============================] - 0s 10ms/step - loss: 0.0163\n",
            "Epoch 6/200\n",
            "21/21 [==============================] - 0s 9ms/step - loss: 0.0159\n",
            "Epoch 7/200\n",
            "21/21 [==============================] - 0s 10ms/step - loss: 0.0155\n",
            "Epoch 8/200\n",
            "21/21 [==============================] - 0s 9ms/step - loss: 0.0152\n",
            "Epoch 9/200\n",
            "21/21 [==============================] - 0s 9ms/step - loss: 0.0150\n",
            "Epoch 10/200\n",
            "21/21 [==============================] - 0s 10ms/step - loss: 0.0149\n",
            "Epoch 11/200\n",
            "21/21 [==============================] - 0s 9ms/step - loss: 0.0151\n",
            "Epoch 12/200\n",
            "21/21 [==============================] - 0s 10ms/step - loss: 0.0149\n",
            "Epoch 13/200\n",
            "21/21 [==============================] - 0s 13ms/step - loss: 0.0147\n",
            "Epoch 14/200\n",
            "21/21 [==============================] - 0s 13ms/step - loss: 0.0150\n",
            "Epoch 15/200\n",
            "21/21 [==============================] - 0s 14ms/step - loss: 0.0145\n",
            "Epoch 16/200\n",
            "21/21 [==============================] - 0s 14ms/step - loss: 0.0143\n",
            "Epoch 17/200\n",
            "21/21 [==============================] - 0s 14ms/step - loss: 0.0142\n",
            "Epoch 18/200\n",
            "21/21 [==============================] - 0s 14ms/step - loss: 0.0143\n",
            "Epoch 19/200\n",
            "21/21 [==============================] - 0s 14ms/step - loss: 0.0144\n",
            "Epoch 20/200\n",
            "21/21 [==============================] - 0s 14ms/step - loss: 0.0140\n",
            "Epoch 21/200\n",
            "21/21 [==============================] - 0s 14ms/step - loss: 0.0145\n",
            "Epoch 22/200\n",
            "21/21 [==============================] - 0s 13ms/step - loss: 0.0140\n",
            "Epoch 23/200\n",
            "21/21 [==============================] - 0s 13ms/step - loss: 0.0144\n",
            "Epoch 24/200\n",
            "21/21 [==============================] - 0s 13ms/step - loss: 0.0141\n",
            "Epoch 25/200\n",
            "21/21 [==============================] - 0s 11ms/step - loss: 0.0141\n",
            "Epoch 26/200\n",
            "21/21 [==============================] - 0s 9ms/step - loss: 0.0146\n",
            "Epoch 27/200\n",
            "21/21 [==============================] - 0s 10ms/step - loss: 0.0144\n",
            "Epoch 28/200\n",
            "21/21 [==============================] - 0s 9ms/step - loss: 0.0141\n",
            "Epoch 29/200\n",
            "21/21 [==============================] - 0s 9ms/step - loss: 0.0143\n",
            "Epoch 30/200\n",
            "21/21 [==============================] - 0s 10ms/step - loss: 0.0139\n",
            "Epoch 31/200\n",
            "21/21 [==============================] - 0s 9ms/step - loss: 0.0143\n",
            "Epoch 32/200\n",
            "21/21 [==============================] - 0s 10ms/step - loss: 0.0138\n",
            "Epoch 33/200\n",
            "21/21 [==============================] - 0s 9ms/step - loss: 0.0141\n",
            "Epoch 34/200\n",
            "21/21 [==============================] - 0s 9ms/step - loss: 0.0140\n",
            "Epoch 35/200\n",
            "21/21 [==============================] - 0s 9ms/step - loss: 0.0139\n",
            "Epoch 36/200\n",
            "21/21 [==============================] - 0s 10ms/step - loss: 0.0138\n",
            "Epoch 37/200\n",
            "21/21 [==============================] - 0s 10ms/step - loss: 0.0140\n",
            "Epoch 38/200\n",
            "21/21 [==============================] - 0s 9ms/step - loss: 0.0141\n",
            "Epoch 39/200\n",
            "21/21 [==============================] - 0s 10ms/step - loss: 0.0137\n",
            "Epoch 40/200\n",
            "21/21 [==============================] - 0s 10ms/step - loss: 0.0135\n",
            "Epoch 41/200\n",
            "21/21 [==============================] - 0s 11ms/step - loss: 0.0135\n",
            "Epoch 42/200\n",
            "21/21 [==============================] - 0s 10ms/step - loss: 0.0138\n",
            "Epoch 43/200\n",
            "21/21 [==============================] - 0s 9ms/step - loss: 0.0139\n",
            "Epoch 44/200\n",
            "21/21 [==============================] - 0s 10ms/step - loss: 0.0137\n",
            "Epoch 45/200\n",
            "21/21 [==============================] - 0s 10ms/step - loss: 0.0137\n",
            "Epoch 46/200\n",
            "21/21 [==============================] - 0s 10ms/step - loss: 0.0134\n",
            "Epoch 47/200\n",
            "21/21 [==============================] - 0s 9ms/step - loss: 0.0138\n",
            "Epoch 48/200\n",
            "21/21 [==============================] - 0s 9ms/step - loss: 0.0133\n",
            "Epoch 49/200\n",
            "21/21 [==============================] - 0s 10ms/step - loss: 0.0135\n",
            "Epoch 50/200\n",
            "21/21 [==============================] - 0s 9ms/step - loss: 0.0138\n",
            "Epoch 51/200\n",
            "21/21 [==============================] - 0s 9ms/step - loss: 0.0132\n",
            "Epoch 52/200\n",
            "21/21 [==============================] - 0s 10ms/step - loss: 0.0136\n",
            "Epoch 53/200\n",
            "21/21 [==============================] - 0s 10ms/step - loss: 0.0133\n",
            "Epoch 54/200\n",
            "21/21 [==============================] - 0s 9ms/step - loss: 0.0136\n",
            "Epoch 55/200\n",
            "21/21 [==============================] - 0s 10ms/step - loss: 0.0134\n",
            "Epoch 56/200\n",
            "21/21 [==============================] - 0s 10ms/step - loss: 0.0136\n",
            "Epoch 57/200\n",
            "21/21 [==============================] - 0s 10ms/step - loss: 0.0136\n",
            "Epoch 58/200\n",
            "21/21 [==============================] - 0s 10ms/step - loss: 0.0132\n",
            "Epoch 59/200\n",
            "21/21 [==============================] - 0s 9ms/step - loss: 0.0132\n",
            "Epoch 60/200\n",
            "21/21 [==============================] - 0s 10ms/step - loss: 0.0134\n",
            "Epoch 61/200\n",
            "21/21 [==============================] - 0s 9ms/step - loss: 0.0133\n",
            "Epoch 62/200\n",
            "21/21 [==============================] - 0s 9ms/step - loss: 0.0132\n",
            "Epoch 63/200\n",
            "21/21 [==============================] - 0s 9ms/step - loss: 0.0132\n",
            "Epoch 64/200\n",
            "21/21 [==============================] - 0s 9ms/step - loss: 0.0134\n",
            "Epoch 65/200\n",
            "21/21 [==============================] - 0s 10ms/step - loss: 0.0130\n",
            "Epoch 66/200\n",
            "21/21 [==============================] - 0s 9ms/step - loss: 0.0132\n",
            "Epoch 67/200\n",
            "21/21 [==============================] - 0s 9ms/step - loss: 0.0131\n",
            "Epoch 68/200\n",
            "21/21 [==============================] - 0s 10ms/step - loss: 0.0129\n",
            "Epoch 69/200\n",
            "21/21 [==============================] - 0s 10ms/step - loss: 0.0134\n",
            "Epoch 70/200\n",
            "21/21 [==============================] - 0s 9ms/step - loss: 0.0131\n",
            "Epoch 71/200\n",
            "21/21 [==============================] - 0s 11ms/step - loss: 0.0133\n",
            "Epoch 72/200\n",
            "21/21 [==============================] - 0s 10ms/step - loss: 0.0131\n",
            "Epoch 73/200\n",
            "21/21 [==============================] - 0s 12ms/step - loss: 0.0131\n",
            "Epoch 74/200\n",
            "21/21 [==============================] - 0s 13ms/step - loss: 0.0130\n",
            "Epoch 75/200\n",
            "21/21 [==============================] - 0s 14ms/step - loss: 0.0128\n",
            "Epoch 76/200\n",
            "21/21 [==============================] - 0s 14ms/step - loss: 0.0129\n",
            "Epoch 77/200\n",
            "21/21 [==============================] - 0s 14ms/step - loss: 0.0127\n",
            "Epoch 78/200\n",
            "21/21 [==============================] - 0s 14ms/step - loss: 0.0131\n",
            "Epoch 79/200\n",
            "21/21 [==============================] - 0s 13ms/step - loss: 0.0128\n",
            "Epoch 80/200\n",
            "21/21 [==============================] - 0s 14ms/step - loss: 0.0129\n",
            "Epoch 81/200\n",
            "21/21 [==============================] - 0s 14ms/step - loss: 0.0130\n",
            "Epoch 82/200\n",
            "21/21 [==============================] - 0s 15ms/step - loss: 0.0127\n",
            "Epoch 83/200\n",
            "21/21 [==============================] - 0s 14ms/step - loss: 0.0129\n",
            "Epoch 84/200\n",
            "21/21 [==============================] - 0s 15ms/step - loss: 0.0130\n",
            "Epoch 85/200\n",
            "21/21 [==============================] - 0s 12ms/step - loss: 0.0130\n",
            "Epoch 86/200\n",
            "21/21 [==============================] - 0s 10ms/step - loss: 0.0129\n",
            "Epoch 87/200\n",
            "21/21 [==============================] - 0s 10ms/step - loss: 0.0127\n",
            "Epoch 88/200\n",
            "21/21 [==============================] - 0s 9ms/step - loss: 0.0130\n",
            "Epoch 89/200\n",
            "21/21 [==============================] - 0s 11ms/step - loss: 0.0127\n",
            "Epoch 90/200\n",
            "21/21 [==============================] - 0s 9ms/step - loss: 0.0125\n",
            "Epoch 91/200\n",
            "21/21 [==============================] - 0s 10ms/step - loss: 0.0126\n",
            "Epoch 92/200\n",
            "21/21 [==============================] - 0s 9ms/step - loss: 0.0127\n",
            "Epoch 93/200\n",
            "21/21 [==============================] - 0s 10ms/step - loss: 0.0128\n",
            "Epoch 94/200\n",
            "21/21 [==============================] - 0s 10ms/step - loss: 0.0131\n",
            "Epoch 95/200\n",
            "21/21 [==============================] - 0s 9ms/step - loss: 0.0129\n",
            "Epoch 96/200\n",
            "21/21 [==============================] - 0s 10ms/step - loss: 0.0126\n",
            "Epoch 97/200\n",
            "21/21 [==============================] - 0s 10ms/step - loss: 0.0127\n",
            "Epoch 98/200\n",
            "21/21 [==============================] - 0s 10ms/step - loss: 0.0125\n",
            "Epoch 99/200\n",
            "21/21 [==============================] - 0s 10ms/step - loss: 0.0127\n",
            "Epoch 100/200\n",
            "21/21 [==============================] - 0s 11ms/step - loss: 0.0129\n",
            "Epoch 101/200\n",
            "21/21 [==============================] - 0s 10ms/step - loss: 0.0127\n",
            "Epoch 102/200\n",
            "21/21 [==============================] - 0s 9ms/step - loss: 0.0127\n",
            "Epoch 103/200\n",
            "21/21 [==============================] - 0s 10ms/step - loss: 0.0126\n",
            "Epoch 104/200\n",
            "21/21 [==============================] - 0s 10ms/step - loss: 0.0126\n",
            "Epoch 105/200\n",
            "21/21 [==============================] - 0s 10ms/step - loss: 0.0124\n",
            "Epoch 106/200\n",
            "21/21 [==============================] - 0s 10ms/step - loss: 0.0125\n",
            "Epoch 107/200\n",
            "21/21 [==============================] - 0s 10ms/step - loss: 0.0126\n",
            "Epoch 108/200\n",
            "21/21 [==============================] - 0s 9ms/step - loss: 0.0127\n",
            "Epoch 109/200\n",
            "21/21 [==============================] - 0s 9ms/step - loss: 0.0125\n",
            "Epoch 110/200\n",
            "21/21 [==============================] - 0s 10ms/step - loss: 0.0125\n",
            "Epoch 111/200\n",
            "21/21 [==============================] - 0s 9ms/step - loss: 0.0125\n",
            "Epoch 112/200\n",
            "21/21 [==============================] - 0s 9ms/step - loss: 0.0124\n",
            "Epoch 113/200\n",
            "21/21 [==============================] - 0s 9ms/step - loss: 0.0125\n",
            "Epoch 114/200\n",
            "21/21 [==============================] - 0s 10ms/step - loss: 0.0123\n",
            "Epoch 115/200\n",
            "21/21 [==============================] - 0s 15ms/step - loss: 0.0124\n",
            "Epoch 116/200\n",
            "21/21 [==============================] - 0s 18ms/step - loss: 0.0124\n",
            "Epoch 117/200\n",
            "21/21 [==============================] - 0s 16ms/step - loss: 0.0124\n",
            "Epoch 118/200\n",
            "21/21 [==============================] - 0s 10ms/step - loss: 0.0122\n",
            "Epoch 119/200\n",
            "21/21 [==============================] - 0s 10ms/step - loss: 0.0121\n",
            "Epoch 120/200\n",
            "21/21 [==============================] - 0s 10ms/step - loss: 0.0125\n",
            "Epoch 121/200\n",
            "21/21 [==============================] - 0s 9ms/step - loss: 0.0125\n",
            "Epoch 122/200\n",
            "21/21 [==============================] - 0s 10ms/step - loss: 0.0124\n",
            "Epoch 123/200\n",
            "21/21 [==============================] - 0s 10ms/step - loss: 0.0123\n",
            "Epoch 124/200\n",
            "21/21 [==============================] - 0s 9ms/step - loss: 0.0127\n",
            "Epoch 125/200\n",
            "21/21 [==============================] - 0s 10ms/step - loss: 0.0123\n",
            "Epoch 126/200\n",
            "21/21 [==============================] - 0s 10ms/step - loss: 0.0123\n",
            "Epoch 127/200\n",
            "21/21 [==============================] - 0s 11ms/step - loss: 0.0123\n",
            "Epoch 128/200\n",
            "21/21 [==============================] - 0s 9ms/step - loss: 0.0121\n",
            "Epoch 129/200\n",
            "21/21 [==============================] - 0s 10ms/step - loss: 0.0122\n",
            "Epoch 130/200\n",
            "21/21 [==============================] - 0s 10ms/step - loss: 0.0123\n",
            "Epoch 131/200\n",
            "21/21 [==============================] - 0s 13ms/step - loss: 0.0123\n",
            "Epoch 132/200\n",
            "21/21 [==============================] - 0s 14ms/step - loss: 0.0123\n",
            "Epoch 133/200\n",
            "21/21 [==============================] - 0s 13ms/step - loss: 0.0121\n",
            "Epoch 134/200\n",
            "21/21 [==============================] - 0s 14ms/step - loss: 0.0122\n",
            "Epoch 135/200\n",
            "21/21 [==============================] - 0s 13ms/step - loss: 0.0124\n",
            "Epoch 136/200\n",
            "21/21 [==============================] - 0s 13ms/step - loss: 0.0122\n",
            "Epoch 137/200\n",
            "21/21 [==============================] - 0s 13ms/step - loss: 0.0122\n",
            "Epoch 138/200\n",
            "21/21 [==============================] - 0s 13ms/step - loss: 0.0122\n",
            "Epoch 139/200\n",
            "21/21 [==============================] - 0s 13ms/step - loss: 0.0120\n",
            "Epoch 140/200\n",
            "21/21 [==============================] - 0s 13ms/step - loss: 0.0123\n",
            "Epoch 141/200\n",
            "21/21 [==============================] - 0s 13ms/step - loss: 0.0120\n",
            "Epoch 142/200\n",
            "21/21 [==============================] - 0s 14ms/step - loss: 0.0121\n",
            "Epoch 143/200\n",
            "21/21 [==============================] - 0s 14ms/step - loss: 0.0120\n",
            "Epoch 144/200\n",
            "21/21 [==============================] - 0s 10ms/step - loss: 0.0121\n",
            "Epoch 145/200\n",
            "21/21 [==============================] - 0s 10ms/step - loss: 0.0120\n",
            "Epoch 146/200\n",
            "21/21 [==============================] - 0s 10ms/step - loss: 0.0122\n",
            "Epoch 147/200\n",
            "21/21 [==============================] - 0s 10ms/step - loss: 0.0121\n",
            "Epoch 148/200\n",
            "21/21 [==============================] - 0s 9ms/step - loss: 0.0121\n",
            "Epoch 149/200\n",
            "21/21 [==============================] - 0s 10ms/step - loss: 0.0120\n",
            "Epoch 150/200\n",
            "21/21 [==============================] - 0s 10ms/step - loss: 0.0121\n",
            "Epoch 151/200\n",
            "21/21 [==============================] - 0s 9ms/step - loss: 0.0121\n",
            "Epoch 152/200\n",
            "21/21 [==============================] - 0s 11ms/step - loss: 0.0120\n",
            "Epoch 153/200\n",
            "21/21 [==============================] - 0s 10ms/step - loss: 0.0119\n",
            "Epoch 154/200\n",
            "21/21 [==============================] - 0s 10ms/step - loss: 0.0118\n",
            "Epoch 155/200\n",
            "21/21 [==============================] - 0s 10ms/step - loss: 0.0119\n",
            "Epoch 156/200\n",
            "21/21 [==============================] - 0s 10ms/step - loss: 0.0119\n",
            "Epoch 157/200\n",
            "21/21 [==============================] - 0s 10ms/step - loss: 0.0118\n",
            "Epoch 158/200\n",
            "21/21 [==============================] - 0s 9ms/step - loss: 0.0121\n",
            "Epoch 159/200\n",
            "21/21 [==============================] - 0s 10ms/step - loss: 0.0119\n",
            "Epoch 160/200\n",
            "21/21 [==============================] - 0s 10ms/step - loss: 0.0120\n",
            "Epoch 161/200\n",
            "21/21 [==============================] - 0s 9ms/step - loss: 0.0119\n",
            "Epoch 162/200\n",
            "21/21 [==============================] - 0s 10ms/step - loss: 0.0117\n",
            "Epoch 163/200\n",
            "21/21 [==============================] - 0s 9ms/step - loss: 0.0119\n",
            "Epoch 164/200\n",
            "21/21 [==============================] - 0s 10ms/step - loss: 0.0117\n",
            "Epoch 165/200\n",
            "21/21 [==============================] - 0s 10ms/step - loss: 0.0119\n",
            "Epoch 166/200\n",
            "21/21 [==============================] - 0s 10ms/step - loss: 0.0118\n",
            "Epoch 167/200\n",
            "21/21 [==============================] - 0s 10ms/step - loss: 0.0117\n",
            "Epoch 168/200\n",
            "21/21 [==============================] - 0s 10ms/step - loss: 0.0119\n",
            "Epoch 169/200\n",
            "21/21 [==============================] - 0s 10ms/step - loss: 0.0119\n",
            "Epoch 170/200\n",
            "21/21 [==============================] - 0s 10ms/step - loss: 0.0118\n",
            "Epoch 171/200\n",
            "21/21 [==============================] - 0s 10ms/step - loss: 0.0120\n",
            "Epoch 172/200\n",
            "21/21 [==============================] - 0s 9ms/step - loss: 0.0118\n",
            "Epoch 173/200\n",
            "21/21 [==============================] - 0s 10ms/step - loss: 0.0118\n",
            "Epoch 174/200\n",
            "21/21 [==============================] - 0s 10ms/step - loss: 0.0119\n",
            "Epoch 175/200\n",
            "21/21 [==============================] - 0s 9ms/step - loss: 0.0118\n",
            "Epoch 176/200\n",
            "21/21 [==============================] - 0s 10ms/step - loss: 0.0120\n",
            "Epoch 177/200\n",
            "21/21 [==============================] - 0s 9ms/step - loss: 0.0117\n",
            "Epoch 178/200\n",
            "21/21 [==============================] - 0s 9ms/step - loss: 0.0118\n",
            "Epoch 179/200\n",
            "21/21 [==============================] - 0s 10ms/step - loss: 0.0118\n",
            "Epoch 180/200\n",
            "21/21 [==============================] - 0s 11ms/step - loss: 0.0117\n",
            "Epoch 181/200\n",
            "21/21 [==============================] - 0s 10ms/step - loss: 0.0118\n",
            "Epoch 182/200\n",
            "21/21 [==============================] - 0s 10ms/step - loss: 0.0118\n",
            "Epoch 183/200\n",
            "21/21 [==============================] - 0s 10ms/step - loss: 0.0118\n",
            "Epoch 184/200\n",
            "21/21 [==============================] - 0s 10ms/step - loss: 0.0117\n",
            "Epoch 185/200\n",
            "21/21 [==============================] - 0s 10ms/step - loss: 0.0116\n",
            "Epoch 186/200\n",
            "21/21 [==============================] - 0s 10ms/step - loss: 0.0117\n",
            "Epoch 187/200\n",
            "21/21 [==============================] - 0s 9ms/step - loss: 0.0117\n",
            "Epoch 188/200\n",
            "21/21 [==============================] - 0s 10ms/step - loss: 0.0117\n",
            "Epoch 189/200\n",
            "21/21 [==============================] - 0s 10ms/step - loss: 0.0118\n",
            "Epoch 190/200\n",
            "21/21 [==============================] - 0s 10ms/step - loss: 0.0117\n",
            "Epoch 191/200\n",
            "21/21 [==============================] - 0s 12ms/step - loss: 0.0117\n",
            "Epoch 192/200\n",
            "21/21 [==============================] - 0s 15ms/step - loss: 0.0117\n",
            "Epoch 193/200\n",
            "21/21 [==============================] - 0s 14ms/step - loss: 0.0117\n",
            "Epoch 194/200\n",
            "21/21 [==============================] - 0s 14ms/step - loss: 0.0116\n",
            "Epoch 195/200\n",
            "21/21 [==============================] - 0s 14ms/step - loss: 0.0117\n",
            "Epoch 196/200\n",
            "21/21 [==============================] - 0s 12ms/step - loss: 0.0117\n",
            "Epoch 197/200\n",
            "21/21 [==============================] - 0s 14ms/step - loss: 0.0118\n",
            "Epoch 198/200\n",
            "21/21 [==============================] - 0s 13ms/step - loss: 0.0115\n",
            "Epoch 199/200\n",
            "21/21 [==============================] - 0s 13ms/step - loss: 0.0114\n",
            "Epoch 200/200\n",
            "21/21 [==============================] - 0s 13ms/step - loss: 0.0115\n"
          ]
        },
        {
          "output_type": "execute_result",
          "data": {
            "text/plain": [
              "<keras.callbacks.History at 0x7f3e7866e9d0>"
            ]
          },
          "metadata": {},
          "execution_count": 22
        }
      ]
    },
    {
      "cell_type": "markdown",
      "source": [
        "##Realizar predicciones"
      ],
      "metadata": {
        "id": "64PXT45cQHiR"
      }
    },
    {
      "cell_type": "code",
      "source": [
        "inputs=data[len(data)-len(close_test)-timestep:]\n",
        "inputs=inputs.values.reshape(-1,1)\n",
        "inputs=scaler.transform(inputs)"
      ],
      "metadata": {
        "id": "oh9lXO98QHUp"
      },
      "execution_count": null,
      "outputs": []
    },
    {
      "cell_type": "code",
      "source": [
        "x_test=[]\n",
        "for i in range(timestep,inputs.shape[0]):\n",
        "    x_test.append(inputs[i-timestep:i,0])\n",
        "x_test=np.array(x_test)\n",
        "x_test=x_test.reshape(x_test.shape[0],x_test.shape[1],1)"
      ],
      "metadata": {
        "id": "xoZILMRiQ5LB"
      },
      "execution_count": null,
      "outputs": []
    },
    {
      "cell_type": "code",
      "source": [
        "predicted_data=mode.predict(x_test)\n",
        "predicted_data=scaler.inverse_transform(predicted_data)"
      ],
      "metadata": {
        "colab": {
          "base_uri": "https://localhost:8080/"
        },
        "id": "SM9Ljl4IQK4x",
        "outputId": "afda7248-cf4f-4b1d-9c44-83f552d6df4d"
      },
      "execution_count": null,
      "outputs": [
        {
          "output_type": "stream",
          "name": "stdout",
          "text": [
            "2/2 [==============================] - 1s 7ms/step\n"
          ]
        }
      ]
    },
    {
      "cell_type": "code",
      "source": [
        "data_test=np.array(close_test)\n",
        "data_test=data_test.reshape(len(data_test),1)"
      ],
      "metadata": {
        "id": "cuxlEc9XQL6Z"
      },
      "execution_count": null,
      "outputs": []
    },
    {
      "cell_type": "markdown",
      "source": [
        "###visualizar las prediciones"
      ],
      "metadata": {
        "id": "Imii4dUZRA6b"
      }
    },
    {
      "cell_type": "code",
      "source": [
        "plt.figure(figsize=(8,4), dpi=80, facecolor='w', edgecolor='k')\n",
        "plt.plot(data_test,color=\"b\",label=\"true-result\")\n",
        "plt.plot(predicted_data,color=\"g\",label=\"predicted-result\")\n",
        "plt.legend()\n",
        "plt.title(\"LSTM\")\n",
        "plt.xlabel(\"Time(60 days)\")\n",
        "plt.ylabel(\"Close Values\")\n",
        "plt.grid(True)\n",
        "plt.show()"
      ],
      "metadata": {
        "colab": {
          "base_uri": "https://localhost:8080/",
          "height": 323
        },
        "id": "DAiJtUdGQ7ja",
        "outputId": "ca70252e-36d2-42c5-a548-1020ee7f0e03"
      },
      "execution_count": null,
      "outputs": [
        {
          "output_type": "display_data",
          "data": {
            "text/plain": [
              "<Figure size 640x320 with 1 Axes>"
            ],
            "image/png": "[encoded data removed]"
          },
          "metadata": {}
        }
      ]
    },
    {
      "cell_type": "markdown",
      "source": [
        "##Realizando las comparaciones de los modelos implementados la  red GRU ] inicia con un error mayor que la red LSTM pero se van igualando conforme se va avanzando esto se puede comcluir que el error de la GRU disminuye mejor**"
      ],
      "metadata": {
        "id": "g72U4Nk3Q_0b"
      }
    }
  ]
}